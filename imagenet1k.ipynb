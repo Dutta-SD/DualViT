{
 "cells": [
  {
   "cell_type": "code",
   "execution_count": null,
   "metadata": {},
   "outputs": [],
   "source": [
    "# import random\n",
    "# import matplotlib.pyplot as plt\n",
    "\n",
    "# random.seed(42)\n",
    "# fig, axs = plt.subplots(10)\n",
    "# fig.set_figheight(10)\n",
    "# fig.set_figwidth(5)\n",
    "\n",
    "# for i in range(10):\n",
    "#     idx = random.randrange(0, 16384)\n",
    "#     img, fine_label, broad_label = ds[idx]\n",
    "#     axs[i].imshow(img.permute(1, 2, 0))\n",
    "#     axs[i].axis(\"off\")\n",
    "#     axs[i].title.set_text(f\"Fine: {fine_label}, Broad: {broad_label}\")\n",
    "\n",
    "# plt.show()\n"
   ]
  },
  {
   "cell_type": "code",
   "execution_count": 5,
   "metadata": {},
   "outputs": [
    {
     "name": "stdout",
     "output_type": "stream",
     "text": [
      "Training Counter({1: 510367, 9: 444406, 5: 81423, 10: 72878, 6: 51485, -1: 34925, 4: 20800, 17: 9100, 3: 8565, 8: 7739, 16: 5153, 14: 5060, 11: 5020, 13: 3900, 0: 3900, 15: 3838, 2: 2600, 12: 2600, 7: 2600, 18: 2600, 19: 2208})\n",
      "Validation Counter({1: 19900, 9: 17350, 5: 3150, 10: 2900, 6: 2000, -1: 1350, 4: 800, 17: 350, 3: 350, 8: 300, 16: 200, 14: 200, 11: 200, 13: 150, 15: 150, 0: 150, 2: 100, 12: 100, 7: 100, 18: 100, 19: 100})\n"
     ]
    }
   ],
   "source": [
    "from collections import Counter\n",
    "from vish.lightning.data.imagenet import ImageNet1kMultilabelDataset, val_tf, train_tf\n",
    "from pprint import pprint\n",
    "\n",
    "ds_train = ImageNet1kMultilabelDataset(\"train\", True, 4, \"data/imagenet/train\", train_tf)\n",
    "train_counter = Counter([ds_train.get_broad_label(f) for f in ds_train.targets])\n",
    "print(\"Training\", train_counter)\n",
    "\n",
    "ds_val = ImageNet1kMultilabelDataset(\"val\", True, 4, \"data/imagenet/val\", val_tf)\n",
    "val_counter = Counter([ds_val.get_broad_label(f) for f in ds_val.targets])\n",
    "print(\"Validation\", val_counter)"
   ]
  },
  {
   "cell_type": "code",
   "execution_count": null,
   "metadata": {},
   "outputs": [],
   "source": []
  }
 ],
 "metadata": {
  "kernelspec": {
   "display_name": "sandip-env",
   "language": "python",
   "name": "python3"
  },
  "language_info": {
   "codemirror_mode": {
    "name": "ipython",
    "version": 3
   },
   "file_extension": ".py",
   "mimetype": "text/x-python",
   "name": "python",
   "nbconvert_exporter": "python",
   "pygments_lexer": "ipython3",
   "version": "3.11.0"
  },
  "orig_nbformat": 4
 },
 "nbformat": 4,
 "nbformat_minor": 2
}
